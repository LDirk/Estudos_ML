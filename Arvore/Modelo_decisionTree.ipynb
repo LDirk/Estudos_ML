{
  "nbformat": 4,
  "nbformat_minor": 0,
  "metadata": {
    "colab": {
      "name": "Modelo_decisionTree",
      "provenance": []
    },
    "kernelspec": {
      "name": "python3",
      "display_name": "Python 3"
    },
    "language_info": {
      "name": "python"
    }
  },
  "cells": [
    {
      "cell_type": "code",
      "metadata": {
        "id": "sY0WhNWdcOIZ"
      },
      "source": [
        "import pandas as pd\n",
        "import numpy as np"
      ],
      "execution_count": 42,
      "outputs": []
    },
    {
      "cell_type": "code",
      "metadata": {
        "id": "P0Gb8KltcTKR"
      },
      "source": [
        "dados_treino = pd.read_csv(\"/content/dadostreino_limpo.csv\")\n",
        "\n",
        "\n",
        "x = dados_treino[\n",
        "                 [\"util_linhas_inseguras\",\n",
        "                 \"idade\",\n",
        "                 \"vezes_passou_de_30_59_dias\",\n",
        "                 \"razao_debito\",\n",
        "                 \"salario_mensal\",\n",
        "                 \"numero_linhas_crdto_aberto\",\n",
        "                 \"numero_vezes_passou_90_dias\",\n",
        "                 \"numero_emprestimos_imobiliarios\",\n",
        "                 \"numero_de_vezes_que_passou_60_89_dias\",\n",
        "                 \"numero_de_dependentes\"]\n",
        "                 ]\n",
        "\n",
        "y = dados_treino[[\"inadimplente\"]]"
      ],
      "execution_count": 43,
      "outputs": []
    },
    {
      "cell_type": "code",
      "metadata": {
        "id": "Hxchy_vCljcD"
      },
      "source": [
        "from sklearn.model_selection import train_test_split\n",
        "from sklearn.tree import DecisionTreeClassifier\n",
        "from sklearn.metrics import accuracy_score\n"
      ],
      "execution_count": 44,
      "outputs": []
    },
    {
      "cell_type": "code",
      "metadata": {
        "id": "TO331hx1lqJz"
      },
      "source": [
        "SEED = 5\n",
        "np.random.seed(SEED)\n",
        "raw_treino_x, raw_teste_x, treino_y, teste_y = train_test_split(x, y, test_size = 0.25, stratify = y)"
      ],
      "execution_count": 47,
      "outputs": []
    },
    {
      "cell_type": "code",
      "metadata": {
        "colab": {
          "base_uri": "https://localhost:8080/"
        },
        "id": "bdbx4b9el0-C",
        "outputId": "b7b345d1-69a0-4b85-cf23-8a075cfeafd3"
      },
      "source": [
        "print(\"Treinaremos com %d elementos e testaremos com %d elementos\" % (len(raw_treino_x), len(raw_teste_x)))\n",
        "\n",
        "# max_depth dita a profundidade da arvore\n",
        "modelo = DecisionTreeClassifier(max_depth=2)\n",
        "modelo.fit(raw_treino_x, treino_y)\n",
        "previsoes = modelo.predict(raw_teste_x)\n",
        "\n",
        "acuracia = accuracy_score(teste_y, previsoes) * 100\n",
        "print(\"A acurácia foi %.2f%%\" % acuracia)\n"
      ],
      "execution_count": 48,
      "outputs": [
        {
          "output_type": "stream",
          "name": "stdout",
          "text": [
            "Treinaremos com 66177 elementos e testaremos com 22059 elementos\n",
            "A acurácia foi 93.24%\n",
            "93,24% de acuracia\n"
          ]
        }
      ]
    },
    {
      "cell_type": "code",
      "metadata": {
        "id": "qQe6Bqy7msXj"
      },
      "source": [
        "# predição dadostreino "
      ],
      "execution_count": 49,
      "outputs": []
    },
    {
      "cell_type": "code",
      "metadata": {
        "id": "pjnNU5Lvmxqw"
      },
      "source": [
        "dados_teste = pd.read_csv(\"/content/dadosteste_limpo.csv\")\n"
      ],
      "execution_count": 51,
      "outputs": []
    },
    {
      "cell_type": "code",
      "metadata": {
        "id": "nrZRhXbRnNxq"
      },
      "source": [
        "x_teste = dados_teste[\n",
        "                 [\"util_linhas_inseguras\",\n",
        "                 \"idade\",\n",
        "                 \"vezes_passou_de_30_59_dias\",\n",
        "                 \"razao_debito\",\n",
        "                 \"salario_mensal\",\n",
        "                 \"numero_linhas_crdto_aberto\",\n",
        "                 \"numero_vezes_passou_90_dias\",\n",
        "                 \"numero_emprestimos_imobiliarios\",\n",
        "                 \"numero_de_vezes_que_passou_60_89_dias\",\n",
        "                 \"numero_de_dependentes\"]\n",
        "                 ]"
      ],
      "execution_count": 52,
      "outputs": []
    },
    {
      "cell_type": "code",
      "metadata": {
        "colab": {
          "base_uri": "https://localhost:8080/"
        },
        "id": "-v392cgrnRw1",
        "outputId": "3658bba6-bc09-457a-e093-7052375e3c9b"
      },
      "source": [
        "previsoes = modelo.predict(x_teste)\n",
        "previsoes"
      ],
      "execution_count": 61,
      "outputs": [
        {
          "output_type": "execute_result",
          "data": {
            "text/plain": [
              "array([0, 0, 0, ..., 0, 0, 0])"
            ]
          },
          "metadata": {},
          "execution_count": 61
        }
      ]
    },
    {
      "cell_type": "code",
      "metadata": {
        "id": "W1HOJXZ3pBMp"
      },
      "source": [
        "dados_teste[\"inadimplente\"] = previsoes\n",
        "\n",
        "dados_teste.to_csv('dados_teste_inadi_file.csv')\n",
        "\n"
      ],
      "execution_count": 65,
      "outputs": []
    },
    {
      "cell_type": "code",
      "metadata": {
        "colab": {
          "base_uri": "https://localhost:8080/",
          "height": 442
        },
        "id": "Wt7Qv4iTp3_K",
        "outputId": "cb6c8642-b185-46c3-9722-e48fe7584747"
      },
      "source": [
        "dados_teste"
      ],
      "execution_count": 63,
      "outputs": [
        {
          "output_type": "execute_result",
          "data": {
            "text/html": [
              "<div>\n",
              "<style scoped>\n",
              "    .dataframe tbody tr th:only-of-type {\n",
              "        vertical-align: middle;\n",
              "    }\n",
              "\n",
              "    .dataframe tbody tr th {\n",
              "        vertical-align: top;\n",
              "    }\n",
              "\n",
              "    .dataframe thead th {\n",
              "        text-align: right;\n",
              "    }\n",
              "</style>\n",
              "<table border=\"1\" class=\"dataframe\">\n",
              "  <thead>\n",
              "    <tr style=\"text-align: right;\">\n",
              "      <th></th>\n",
              "      <th>util_linhas_inseguras</th>\n",
              "      <th>idade</th>\n",
              "      <th>vezes_passou_de_30_59_dias</th>\n",
              "      <th>razao_debito</th>\n",
              "      <th>salario_mensal</th>\n",
              "      <th>numero_linhas_crdto_aberto</th>\n",
              "      <th>numero_vezes_passou_90_dias</th>\n",
              "      <th>numero_emprestimos_imobiliarios</th>\n",
              "      <th>numero_de_vezes_que_passou_60_89_dias</th>\n",
              "      <th>numero_de_dependentes</th>\n",
              "      <th>inadimplente</th>\n",
              "    </tr>\n",
              "  </thead>\n",
              "  <tbody>\n",
              "    <tr>\n",
              "      <th>0</th>\n",
              "      <td>0.0258</td>\n",
              "      <td>62</td>\n",
              "      <td>0</td>\n",
              "      <td>0.0818</td>\n",
              "      <td>8180</td>\n",
              "      <td>3</td>\n",
              "      <td>0</td>\n",
              "      <td>2</td>\n",
              "      <td>0</td>\n",
              "      <td>0</td>\n",
              "      <td>0</td>\n",
              "    </tr>\n",
              "    <tr>\n",
              "      <th>1</th>\n",
              "      <td>0.6671</td>\n",
              "      <td>55</td>\n",
              "      <td>0</td>\n",
              "      <td>0.1531</td>\n",
              "      <td>2200</td>\n",
              "      <td>3</td>\n",
              "      <td>0</td>\n",
              "      <td>0</td>\n",
              "      <td>0</td>\n",
              "      <td>0</td>\n",
              "      <td>0</td>\n",
              "    </tr>\n",
              "    <tr>\n",
              "      <th>2</th>\n",
              "      <td>0.0071</td>\n",
              "      <td>44</td>\n",
              "      <td>0</td>\n",
              "      <td>0.1488</td>\n",
              "      <td>7499</td>\n",
              "      <td>20</td>\n",
              "      <td>0</td>\n",
              "      <td>1</td>\n",
              "      <td>0</td>\n",
              "      <td>0</td>\n",
              "      <td>0</td>\n",
              "    </tr>\n",
              "    <tr>\n",
              "      <th>3</th>\n",
              "      <td>0.0912</td>\n",
              "      <td>54</td>\n",
              "      <td>0</td>\n",
              "      <td>0.3516</td>\n",
              "      <td>5900</td>\n",
              "      <td>15</td>\n",
              "      <td>0</td>\n",
              "      <td>1</td>\n",
              "      <td>1</td>\n",
              "      <td>0</td>\n",
              "      <td>0</td>\n",
              "    </tr>\n",
              "    <tr>\n",
              "      <th>4</th>\n",
              "      <td>0.1127</td>\n",
              "      <td>54</td>\n",
              "      <td>0</td>\n",
              "      <td>0.0660</td>\n",
              "      <td>2167</td>\n",
              "      <td>3</td>\n",
              "      <td>0</td>\n",
              "      <td>0</td>\n",
              "      <td>0</td>\n",
              "      <td>0</td>\n",
              "      <td>0</td>\n",
              "    </tr>\n",
              "    <tr>\n",
              "      <th>...</th>\n",
              "      <td>...</td>\n",
              "      <td>...</td>\n",
              "      <td>...</td>\n",
              "      <td>...</td>\n",
              "      <td>...</td>\n",
              "      <td>...</td>\n",
              "      <td>...</td>\n",
              "      <td>...</td>\n",
              "      <td>...</td>\n",
              "      <td>...</td>\n",
              "      <td>...</td>\n",
              "    </tr>\n",
              "    <tr>\n",
              "      <th>32027</th>\n",
              "      <td>0.0000</td>\n",
              "      <td>68</td>\n",
              "      <td>1</td>\n",
              "      <td>0.0629</td>\n",
              "      <td>10833</td>\n",
              "      <td>9</td>\n",
              "      <td>1</td>\n",
              "      <td>0</td>\n",
              "      <td>0</td>\n",
              "      <td>0</td>\n",
              "      <td>0</td>\n",
              "    </tr>\n",
              "    <tr>\n",
              "      <th>32028</th>\n",
              "      <td>0.0611</td>\n",
              "      <td>84</td>\n",
              "      <td>0</td>\n",
              "      <td>0.0136</td>\n",
              "      <td>8456</td>\n",
              "      <td>7</td>\n",
              "      <td>0</td>\n",
              "      <td>0</td>\n",
              "      <td>0</td>\n",
              "      <td>0</td>\n",
              "      <td>0</td>\n",
              "    </tr>\n",
              "    <tr>\n",
              "      <th>32029</th>\n",
              "      <td>0.8177</td>\n",
              "      <td>70</td>\n",
              "      <td>0</td>\n",
              "      <td>0.6631</td>\n",
              "      <td>6000</td>\n",
              "      <td>17</td>\n",
              "      <td>0</td>\n",
              "      <td>2</td>\n",
              "      <td>0</td>\n",
              "      <td>0</td>\n",
              "      <td>0</td>\n",
              "    </tr>\n",
              "    <tr>\n",
              "      <th>32030</th>\n",
              "      <td>0.1061</td>\n",
              "      <td>64</td>\n",
              "      <td>2</td>\n",
              "      <td>0.8654</td>\n",
              "      <td>5045</td>\n",
              "      <td>12</td>\n",
              "      <td>0</td>\n",
              "      <td>4</td>\n",
              "      <td>0</td>\n",
              "      <td>0</td>\n",
              "      <td>0</td>\n",
              "    </tr>\n",
              "    <tr>\n",
              "      <th>32031</th>\n",
              "      <td>1.0000</td>\n",
              "      <td>28</td>\n",
              "      <td>0</td>\n",
              "      <td>0.0023</td>\n",
              "      <td>3500</td>\n",
              "      <td>0</td>\n",
              "      <td>1</td>\n",
              "      <td>0</td>\n",
              "      <td>0</td>\n",
              "      <td>0</td>\n",
              "      <td>0</td>\n",
              "    </tr>\n",
              "  </tbody>\n",
              "</table>\n",
              "<p>32032 rows × 11 columns</p>\n",
              "</div>"
            ],
            "text/plain": [
              "       util_linhas_inseguras  idade  ...  numero_de_dependentes  inadimplente\n",
              "0                     0.0258     62  ...                      0             0\n",
              "1                     0.6671     55  ...                      0             0\n",
              "2                     0.0071     44  ...                      0             0\n",
              "3                     0.0912     54  ...                      0             0\n",
              "4                     0.1127     54  ...                      0             0\n",
              "...                      ...    ...  ...                    ...           ...\n",
              "32027                 0.0000     68  ...                      0             0\n",
              "32028                 0.0611     84  ...                      0             0\n",
              "32029                 0.8177     70  ...                      0             0\n",
              "32030                 0.1061     64  ...                      0             0\n",
              "32031                 1.0000     28  ...                      0             0\n",
              "\n",
              "[32032 rows x 11 columns]"
            ]
          },
          "metadata": {},
          "execution_count": 63
        }
      ]
    }
  ]
}